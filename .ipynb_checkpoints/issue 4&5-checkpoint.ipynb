{
 "cells": [
  {
   "cell_type": "code",
   "execution_count": 1,
   "id": "42a39348",
   "metadata": {},
   "outputs": [],
   "source": [
    "#issue 4&5\n",
    "#Explanation of Dataset and Output Folder Paths & Consistent File Name Handling:"
   ]
  },
  {
   "cell_type": "code",
   "execution_count": null,
   "id": "cd7b4177",
   "metadata": {},
   "outputs": [],
   "source": [
    "if __name__ == \"__main__\":\n",
    "    dataset_path = \"path/to/dataset\"  # Path to the directory containing video and text files\n",
    "    output_folder = \"path/to/output\"  # Path to the directory where SRT files will be saved\n",
    "    main(dataset_path, output_folder)\n",
    "\n",
    "    \n",
    "    \n",
    "    \n",
    "    \n",
    "    def main(dataset_path, output_folder):\n",
    "    for language in os.listdir(dataset_path):\n",
    "        language_folder = os.path.join(dataset_path, language)\n",
    "        for video_name in os.listdir(language_folder):\n",
    "            if video_name.endswith('.mp4'):\n",
    "                video_path = os.path.join(language_folder, video_name)\n",
    "                text_name = video_name.replace('.mp4', '.txt')\n",
    "                text_path = os.path.join(language_folder, text_name)\n",
    "                if not os.path.isfile(text_path):\n",
    "                    print(f\"Skipping {video_name}, corresponding text file not found.\")\n",
    "                    continue\n",
    "                output_path = os.path.join(output_folder, language, video_name.replace('.mp4', '.srt'))\n",
    "                os.makedirs(os.path.dirname(output_path), exist_ok=True)\n",
    "                generate_srt(video_path, text_path, output_path)"
   ]
  }
 ],
 "metadata": {
  "kernelspec": {
   "display_name": "Python 3 (ipykernel)",
   "language": "python",
   "name": "python3"
  },
  "language_info": {
   "codemirror_mode": {
    "name": "ipython",
    "version": 3
   },
   "file_extension": ".py",
   "mimetype": "text/x-python",
   "name": "python",
   "nbconvert_exporter": "python",
   "pygments_lexer": "ipython3",
   "version": "3.11.3"
  }
 },
 "nbformat": 4,
 "nbformat_minor": 5
}
