{
 "cells": [
  {
   "cell_type": "code",
   "execution_count": 1,
   "id": "b11f2a2c",
   "metadata": {},
   "outputs": [],
   "source": [
    "# Issue 2 \n",
    "Improved Error Handling:"
   ]
  },
  {
   "cell_type": "code",
   "execution_count": null,
   "id": "4e967732",
   "metadata": {},
   "outputs": [],
   "source": [
    "def get_video_duration(video_path):\n",
    "    try:\n",
    "        clip = VideoFileClip(video_path)\n",
    "        duration = clip.duration\n",
    "        clip.close()\n",
    "        return duration\n",
    "    except Exception as e:\n",
    "        print(f\"Error getting duration of {video_path}: {e}\")\n",
    "        return None\n"
   ]
  }
 ],
 "metadata": {
  "kernelspec": {
   "display_name": "Python 3 (ipykernel)",
   "language": "python",
   "name": "python3"
  },
  "language_info": {
   "codemirror_mode": {
    "name": "ipython",
    "version": 3
   },
   "file_extension": ".py",
   "mimetype": "text/x-python",
   "name": "python",
   "nbconvert_exporter": "python",
   "pygments_lexer": "ipython3",
   "version": "3.11.3"
  }
 },
 "nbformat": 4,
 "nbformat_minor": 5
}
