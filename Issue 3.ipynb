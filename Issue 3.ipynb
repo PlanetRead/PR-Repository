{
 "cells": [
  {
   "cell_type": "code",
   "execution_count": 3,
   "id": "1aad2c2c",
   "metadata": {},
   "outputs": [],
   "source": [
    "# issue 3\n",
    "#Dynamic Frame Rate Calculation"
   ]
  },
  {
   "cell_type": "code",
   "execution_count": 4,
   "id": "2a158ea0",
   "metadata": {},
   "outputs": [],
   "source": [
    "def generate_srt(video_path, text_path, output_path):\n",
    "    # Read text file\n",
    "    with open(text_path, 'r', encoding='utf-8') as f:\n",
    "        text = f.readlines()\n",
    "    \n",
    "    # Calculate subtitle timing dynamically\n",
    "    video_duration = get_video_duration(video_path)\n",
    "    num_subtitles = len(text)\n",
    "    if video_duration is None:\n",
    "        print(f\"Skipping {video_path} due to error in getting duration.\")\n",
    "        return\n",
    "    frame_rate = num_subtitles / video_duration\n",
    "\n",
    "    # Generate SRT content\n",
    "    srt_content = \"\"\n",
    "    for i, line in enumerate(text):\n",
    "        start_time = format_time(i / frame_rate)\n",
    "        end_time = format_time((i + 1) / frame_rate)\n",
    "        srt_content += f\"{i+1}\\n{start_time} --> {end_time}\\n{line.strip()}\\n\\n\"\n",
    "    \n",
    "    # Write SRT file\n",
    "    with open(output_path, 'w', encoding='utf-8') as f:\n",
    "        f.write(srt_content)\n",
    "\n",
    "        "
   ]
  },
  {
   "cell_type": "code",
   "execution_count": null,
   "id": "6ab52a98",
   "metadata": {},
   "outputs": [],
   "source": []
  }
 ],
 "metadata": {
  "kernelspec": {
   "display_name": "Python 3 (ipykernel)",
   "language": "python",
   "name": "python3"
  },
  "language_info": {
   "codemirror_mode": {
    "name": "ipython",
    "version": 3
   },
   "file_extension": ".py",
   "mimetype": "text/x-python",
   "name": "python",
   "nbconvert_exporter": "python",
   "pygments_lexer": "ipython3",
   "version": "3.11.3"
  }
 },
 "nbformat": 4,
 "nbformat_minor": 5
}
